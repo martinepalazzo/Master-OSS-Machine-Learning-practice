{
 "cells": [
  {
   "cell_type": "markdown",
   "metadata": {},
   "source": [
    "____\n",
    "__Universite de Technologie de Troyes__<br/>\n",
    "__Universidad Tecnologica Nacional Buenos Aires__<br/>\n",
    "__Master OSS__<br/>\n",
    "__Machine Learning & Pattern Recognition__<br/>\n",
    "__Practice Sessions__<br/>\n",
    "__Teacher: Martin Palazzo__\n",
    "____"
   ]
  },
  {
   "cell_type": "markdown",
   "metadata": {},
   "source": [
    "# Perceptron practice"
   ]
  },
  {
   "cell_type": "markdown",
   "metadata": {},
   "source": [
    "Import useful libraries mainly Numpy for calculus and Seaborn and Matplotlib for visualization."
   ]
  },
  {
   "cell_type": "code",
   "execution_count": 1,
   "metadata": {},
   "outputs": [],
   "source": [
    "# Import libraries\n",
    "import numpy as np\n",
    "import seaborn as sns\n",
    "from matplotlib import pyplot as plt\n",
    "sns.set_context(\"talk\", font_scale=0.85)"
   ]
  },
  {
   "cell_type": "markdown",
   "metadata": {},
   "source": [
    "### Define perceptron functions"
   ]
  },
  {
   "cell_type": "code",
   "execution_count": 2,
   "metadata": {},
   "outputs": [],
   "source": [
    "# Define predict function to measure the performance of the current model\n",
    "\n",
    "def predict(row, weights):\n",
    "    # row is a vector of one sample\n",
    "    activation = weights[0]\n",
    "    \n",
    "    for i in range(len(row)-1):\n",
    "        activation += weights[i + 1] * row[i]\n",
    "    return 1.0 if activation >= 0.0 else 0.0\n",
    "\n",
    "\n",
    "\n",
    "# Define \"train_weights\" function to estimate Perceptron weights using stochastic gradient descent\n",
    "\n",
    "def train_weights(train, l_rate, n_epoch): \n",
    "    #\"train\" is a n samples by p features matrix. Its last column are the labels\n",
    "    \n",
    "    #initialize weights\n",
    "    weights = [0.0 for i in range(len(train[0]))]\n",
    "    \n",
    "    #start epochs\n",
    "    error_per_epoch = np.zeros(n_epoch)\n",
    "    for epoch in range(n_epoch):\n",
    "        sum_error = 0.0\n",
    "        for row in train:\n",
    "            prediction = predict(row, weights)\n",
    "            \n",
    "            # measure the error for the current sample in the actual epoch. The label here is \"row[-1]\"\n",
    "            error = row[-1] - prediction\n",
    "            # acumulate error\n",
    "            sum_error += error**2\n",
    "            # propagate the error to the weights\n",
    "            weights[0] = weights[0] + l_rate * error\n",
    "            for i in range(len(row)-1):\n",
    "                weights[i + 1] = weights[i + 1] + l_rate * error * row[i]\n",
    "        print('>epoch=%d, lrate=%.3f, error=%.3f' % (epoch, l_rate, sum_error))\n",
    "        error_per_epoch[epoch] = sum_error\n",
    "    return weights, error_per_epoch\n",
    "\n"
   ]
  },
  {
   "cell_type": "code",
   "execution_count": 3,
   "metadata": {},
   "outputs": [],
   "source": [
    "def pca_visualization(x_in):\n",
    "    # x_in must be a numpy array of n rows and p columns\n",
    "    \n",
    "    # compute covariate matrix\n",
    "    cov_mat = np.cov(x_in.T)\n",
    "\n",
    "    # eigenvectors and eigenvalues for the from the covariance matrix\n",
    "    eig_val_cov, eig_vec_cov = np.linalg.eig(cov_mat)\n",
    "\n",
    "    # Make a list of (eigenvalue, eigenvector) tuples\n",
    "    eig_pairs = [(np.abs(eig_val_cov[i]), eig_vec_cov[:,i]) for i in range(len(eig_val_cov))]\n",
    "\n",
    "    # Sort the (eigenvalue, eigenvector) tuples from high to low\n",
    "    eig_pairs.sort(key=lambda x: x[0], reverse=True)\n",
    "\n",
    "    # Visually confirm that the list is correctly sorted by decreasing eigenvalues\n",
    "    for i in eig_pairs:\n",
    "        print(i[0])\n",
    "\n",
    "    matrix_w = np.hstack((eig_pairs[0][1].reshape(np.shape(eig_pairs)[0],1), eig_pairs[1][1].reshape(np.shape(eig_pairs)[0],1)))\n",
    "    print('Matrix W:\\n', matrix_w)\n",
    "\n",
    "    transformed = matrix_w.T.dot(x_in.T)\n",
    "    assert transformed.shape == (2,np.shape(x_in)[0]), \"The matrix is not 2x40 dimensional.\"\n",
    "    \n",
    "    ########## BEWARE, THIS SCRIPT ONLY RETURNS THE FIRST TWO COMPONENTS ########\n",
    "    ########## BEWARE, THIS SCRIPT ONLY RETURNS THE FIRST TWO COMPONENTS ########\n",
    "    ########## BEWARE, THIS SCRIPT ONLY RETURNS THE FIRST TWO COMPONENTS ########\n",
    "    \n",
    "    return transformed.T\n",
    "    "
   ]
  },
  {
   "cell_type": "markdown",
   "metadata": {},
   "source": [
    "# Generate a synthetic random dataset and train a perceptron\n",
    "- Classes are separable"
   ]
  },
  {
   "cell_type": "code",
   "execution_count": 4,
   "metadata": {},
   "outputs": [],
   "source": [
    "from sklearn.datasets.samples_generator import make_blobs\n",
    "# the cluster_std generate more spread data\n",
    "x1, y1 = make_blobs(n_samples=50, centers=2,random_state=0, cluster_std=0.75)\n",
    "\n",
    "#y1 = np.reshape(y1,(np.shape(y1)[0],1))"
   ]
  },
  {
   "cell_type": "code",
   "execution_count": 5,
   "metadata": {},
   "outputs": [
    {
     "data": {
      "image/png": "[encoded data removed]",
      "text/plain": [
       "<Figure size 640x480 with 1 Axes>"
      ]
     },
     "metadata": {},
     "output_type": "display_data"
    }
   ],
   "source": [
    "from matplotlib.pyplot import figure\n",
    "figure(num=None, figsize=(8, 6), dpi=80, facecolor='w', edgecolor='k')\n",
    "\n",
    "plt.scatter(x1[:, 0], x1[:, 1], c=y1, s=50, cmap='cool', alpha = 0.5);\n",
    "plt.title(\"synthetic data\")\n",
    "plt.grid(False)"
   ]
  },
  {
   "cell_type": "code",
   "execution_count": 6,
   "metadata": {},
   "outputs": [
    {
     "data": {
      "text/plain": [
       "(50, 2)"
      ]
     },
     "execution_count": 6,
     "metadata": {},
     "output_type": "execute_result"
    }
   ],
   "source": [
    "# check the size of the \"x_data\" array\n",
    "np.shape(x1)"
   ]
  },
  {
   "cell_type": "code",
   "execution_count": 7,
   "metadata": {},
   "outputs": [
    {
     "data": {
      "text/plain": [
       "(50,)"
      ]
     },
     "execution_count": 7,
     "metadata": {},
     "output_type": "execute_result"
    }
   ],
   "source": [
    "np.shape(y1)"
   ]
  },
  {
   "cell_type": "code",
   "execution_count": 8,
   "metadata": {},
   "outputs": [],
   "source": [
    "# concatenate the x matrix and y vector to generate a matrix with the labels in the last column\n",
    "data_synthetic = np.concatenate([x1,np.reshape(y1,(np.shape(y1)[0],1))], axis = 1)"
   ]
  },
  {
   "cell_type": "markdown",
   "metadata": {},
   "source": [
    "#### Train perceptron on x1 data"
   ]
  },
  {
   "cell_type": "code",
   "execution_count": 9,
   "metadata": {},
   "outputs": [],
   "source": [
    "# define the hyperparameters of the perceptron\n",
    "l_rate = 0.01\n",
    "n_epoch = 10"
   ]
  },
  {
   "cell_type": "code",
   "execution_count": 10,
   "metadata": {},
   "outputs": [
    {
     "name": "stdout",
     "output_type": "stream",
     "text": [
      ">epoch=0, lrate=0.010, error=7.000\n",
      ">epoch=1, lrate=0.010, error=5.000\n",
      ">epoch=2, lrate=0.010, error=3.000\n",
      ">epoch=3, lrate=0.010, error=2.000\n",
      ">epoch=4, lrate=0.010, error=3.000\n",
      ">epoch=5, lrate=0.010, error=3.000\n",
      ">epoch=6, lrate=0.010, error=2.000\n",
      ">epoch=7, lrate=0.010, error=0.000\n",
      ">epoch=8, lrate=0.010, error=0.000\n",
      ">epoch=9, lrate=0.010, error=0.000\n"
     ]
    }
   ],
   "source": [
    "# train the weights of the perceptron given the dataset using \"train_weights\" function\n",
    "weights, error_epochs = train_weights(data_synthetic, l_rate, n_epoch)"
   ]
  },
  {
   "cell_type": "code",
   "execution_count": 11,
   "metadata": {},
   "outputs": [
    {
     "data": {
      "text/plain": [
       "array([7., 5., 3., 2., 3., 3., 2., 0., 0., 0.])"
      ]
     },
     "execution_count": 11,
     "metadata": {},
     "output_type": "execute_result"
    }
   ],
   "source": [
    "# print the error per epoch vector\n",
    "error_epochs"
   ]
  },
  {
   "cell_type": "code",
   "execution_count": 12,
   "metadata": {},
   "outputs": [
    {
     "data": {
      "image/png": "[encoded data removed]",
      "text/plain": [
       "<Figure size 560x320 with 1 Axes>"
      ]
     },
     "metadata": {},
     "output_type": "display_data"
    }
   ],
   "source": [
    "# visualize the error per epoch vector\n",
    "figure(num=None, figsize=(7, 4), dpi=80, facecolor='w', edgecolor='k')\n",
    "plt.plot(error_epochs, '-o')\n",
    "plt.title(\"Error per epoch\")\n",
    "plt.ylabel(\"Error\")\n",
    "plt.xlabel(\"epoch\")\n",
    "plt.show()"
   ]
  },
  {
   "cell_type": "markdown",
   "metadata": {},
   "source": [
    "### Generate a synthetic random dataset and train a perceptron\n",
    "- Classes are **NOT** separable"
   ]
  },
  {
   "cell_type": "code",
   "execution_count": 13,
   "metadata": {},
   "outputs": [],
   "source": [
    "# the cluster_std generate more spread data\n",
    "x2, y2 = make_blobs(n_samples=50, centers=2,random_state=0, cluster_std=0.99)"
   ]
  },
  {
   "cell_type": "code",
   "execution_count": 14,
   "metadata": {},
   "outputs": [
    {
     "data": {
      "image/png": "[encoded data removed]",
      "text/plain": [
       "<Figure size 560x320 with 1 Axes>"
      ]
     },
     "metadata": {},
     "output_type": "display_data"
    }
   ],
   "source": [
    "figure(num=None, figsize=(7, 4), dpi=80, facecolor='w', edgecolor='k')\n",
    "plt.scatter(x2[:, 0], x2[:, 1], c=y2, s=50, cmap='cool', alpha = 0.5);\n",
    "plt.title(\"synthetic data\")\n",
    "plt.grid(False)"
   ]
  },
  {
   "cell_type": "code",
   "execution_count": 15,
   "metadata": {},
   "outputs": [],
   "source": [
    "# concatenate the x matrix and y vector to generate a matrix with the labels in the last column\n",
    "data_synthetic_2 = np.concatenate([x2,np.reshape(y2,(np.shape(y2)[0],1))], axis = 1)"
   ]
  },
  {
   "cell_type": "code",
   "execution_count": 16,
   "metadata": {},
   "outputs": [],
   "source": [
    "# define the hyperparameters of the perceptron\n",
    "l_rate2 = 0.01\n",
    "n_epoch2 = 30"
   ]
  },
  {
   "cell_type": "code",
   "execution_count": 17,
   "metadata": {},
   "outputs": [
    {
     "name": "stdout",
     "output_type": "stream",
     "text": [
      ">epoch=0, lrate=0.010, error=7.000\n",
      ">epoch=1, lrate=0.010, error=6.000\n",
      ">epoch=2, lrate=0.010, error=5.000\n",
      ">epoch=3, lrate=0.010, error=3.000\n",
      ">epoch=4, lrate=0.010, error=3.000\n",
      ">epoch=5, lrate=0.010, error=5.000\n",
      ">epoch=6, lrate=0.010, error=5.000\n",
      ">epoch=7, lrate=0.010, error=2.000\n",
      ">epoch=8, lrate=0.010, error=3.000\n",
      ">epoch=9, lrate=0.010, error=3.000\n",
      ">epoch=10, lrate=0.010, error=2.000\n",
      ">epoch=11, lrate=0.010, error=3.000\n",
      ">epoch=12, lrate=0.010, error=2.000\n",
      ">epoch=13, lrate=0.010, error=3.000\n",
      ">epoch=14, lrate=0.010, error=2.000\n",
      ">epoch=15, lrate=0.010, error=3.000\n",
      ">epoch=16, lrate=0.010, error=2.000\n",
      ">epoch=17, lrate=0.010, error=3.000\n",
      ">epoch=18, lrate=0.010, error=4.000\n",
      ">epoch=19, lrate=0.010, error=2.000\n",
      ">epoch=20, lrate=0.010, error=3.000\n",
      ">epoch=21, lrate=0.010, error=2.000\n",
      ">epoch=22, lrate=0.010, error=3.000\n",
      ">epoch=23, lrate=0.010, error=2.000\n",
      ">epoch=24, lrate=0.010, error=5.000\n",
      ">epoch=25, lrate=0.010, error=3.000\n",
      ">epoch=26, lrate=0.010, error=4.000\n",
      ">epoch=27, lrate=0.010, error=2.000\n",
      ">epoch=28, lrate=0.010, error=3.000\n",
      ">epoch=29, lrate=0.010, error=2.000\n"
     ]
    }
   ],
   "source": [
    "# train the weights of the perceptron given the dataset using \"train_weights\" function\n",
    "weights2, error_epochs2 = train_weights(data_synthetic_2, l_rate2, n_epoch2)"
   ]
  },
  {
   "cell_type": "code",
   "execution_count": 18,
   "metadata": {},
   "outputs": [
    {
     "data": {
      "image/png": "[encoded data removed]",
      "text/plain": [
       "<Figure size 560x320 with 1 Axes>"
      ]
     },
     "metadata": {},
     "output_type": "display_data"
    }
   ],
   "source": [
    "# visualize the error per epoch vector\n",
    "figure(num=None, figsize=(7, 4), dpi=80, facecolor='w', edgecolor='k')\n",
    "plt.plot(error_epochs2, '-o')\n",
    "plt.title(\"Error per epoch\")\n",
    "plt.ylabel(\"Error\")\n",
    "plt.xlabel(\"epoch\")\n",
    "plt.show()"
   ]
  },
  {
   "cell_type": "markdown",
   "metadata": {},
   "source": [
    "## Train perceptron on Iris dataset"
   ]
  },
  {
   "cell_type": "code",
   "execution_count": 19,
   "metadata": {},
   "outputs": [],
   "source": [
    "from sklearn.datasets import load_iris\n",
    "data = load_iris()\n",
    "\n",
    "# obtain x and y\n",
    "x_iris = data.data\n",
    "y_iris = data.target\n",
    "\n",
    "# since the dataset has 3 classes we only will use 2 of them to make binary classification\n",
    "x_iris_binary = x_iris[y_iris != 0, :]\n",
    "y_iris_binary = y_iris[y_iris != 0]\n",
    "y_iris_binary[y_iris_binary==2] = 0\n",
    "\n",
    "# adapt the size of y_iris_binary to [n,1]\n",
    "y_iris_binary = np.reshape(y_iris_binary,(np.shape(y_iris_binary)[0],1))\n",
    "\n",
    "# create the data matrix where its final column is the labels since that is the defined type of perceptron input\n",
    "data_iris_binary = np.concatenate((x_iris_binary,y_iris_binary), axis = 1)"
   ]
  },
  {
   "cell_type": "code",
   "execution_count": 20,
   "metadata": {},
   "outputs": [],
   "source": [
    "# make K-fold partitions of the dataset\n",
    "from sklearn.model_selection import StratifiedKFold\n",
    "# determine the number of splits\n",
    "skf = StratifiedKFold(n_splits=5)\n",
    "skf.get_n_splits(x_iris_binary, y_iris_binary)\n",
    "# generate the index of each split in order to separate train and test\n",
    "tr_index = []\n",
    "te_index = []\n",
    "for train_index, test_index in skf.split(x_iris_binary, y_iris_binary):\n",
    "        tr_index.append(train_index)\n",
    "        te_index.append(test_index)"
   ]
  },
  {
   "cell_type": "code",
   "execution_count": 21,
   "metadata": {},
   "outputs": [],
   "source": [
    "# define the current fold of the test loop\n",
    "fold = 0\n",
    "# separate train and test with the current fold (if its desired a 5 fold cross validation can be done within training)\n",
    "xtr = x_iris_binary[tr_index[fold],:]\n",
    "ytr = y_iris_binary[tr_index[fold],]\n",
    "xte = x_iris_binary[te_index[fold],:]\n",
    "yte = y_iris_binary[te_index[fold],]"
   ]
  },
  {
   "cell_type": "code",
   "execution_count": 22,
   "metadata": {},
   "outputs": [],
   "source": [
    "# generate the data matrix that has the final column with the labels for perceptron input\n",
    "data_tr = np.concatenate((xtr,ytr), axis = 1)"
   ]
  },
  {
   "cell_type": "code",
   "execution_count": 23,
   "metadata": {},
   "outputs": [
    {
     "data": {
      "text/plain": [
       "(80, 5)"
      ]
     },
     "execution_count": 23,
     "metadata": {},
     "output_type": "execute_result"
    }
   ],
   "source": [
    "# check the data_tr size\n",
    "np.shape(data_tr)"
   ]
  },
  {
   "cell_type": "code",
   "execution_count": null,
   "metadata": {},
   "outputs": [],
   "source": []
  },
  {
   "cell_type": "code",
   "execution_count": 35,
   "metadata": {},
   "outputs": [],
   "source": [
    "# define the hyperparameters of the perceptron to be trained. Try to use new names (l_rate3 and n_epoch3 for example)\n",
    "\n",
    "#### code here #####\n",
    "\n",
    "#### code here #####"
   ]
  },
  {
   "cell_type": "code",
   "execution_count": null,
   "metadata": {
    "collapsed": true
   },
   "outputs": [],
   "source": [
    "# train the weights of the perceptron with the \"train_weights\" function and the parameters defined above using the \"data_tr\" matrix\n",
    "\n",
    "#### code here #####\n",
    "\n",
    "#### code here #####"
   ]
  },
  {
   "cell_type": "code",
   "execution_count": 36,
   "metadata": {},
   "outputs": [],
   "source": [
    "# visualize the error per epoch vector on the current training.\n",
    "\n",
    "#### code here #####\n",
    "\n",
    "#### code here #####"
   ]
  },
  {
   "cell_type": "code",
   "execution_count": null,
   "metadata": {
    "collapsed": true
   },
   "outputs": [],
   "source": [
    "# a) define a final model (using the desired hyperparameters)\n",
    "\n",
    "# b) use the function \"predict\" defined above to predict the labels of the test set\n",
    "\n",
    "# c) compute the accuracy and empirical error comparing the prediciton with the real labels\n",
    "\n",
    "#### code here #####\n",
    "\n",
    "#### code here #####"
   ]
  },
  {
   "cell_type": "code",
   "execution_count": null,
   "metadata": {
    "collapsed": true
   },
   "outputs": [],
   "source": [
    "# Using the same train set compute a KNN and compare the results."
   ]
  },
  {
   "cell_type": "code",
   "execution_count": null,
   "metadata": {
    "collapsed": true
   },
   "outputs": [],
   "source": []
  },
  {
   "cell_type": "code",
   "execution_count": null,
   "metadata": {
    "collapsed": true
   },
   "outputs": [],
   "source": []
  }
 ],
 "metadata": {
  "kernelspec": {
   "display_name": "Python 3",
   "language": "python",
   "name": "python3"
  },
  "language_info": {
   "codemirror_mode": {
    "name": "ipython",
    "version": 3
   },
   "file_extension": ".py",
   "mimetype": "text/x-python",
   "name": "python",
   "nbconvert_exporter": "python",
   "pygments_lexer": "ipython3",
   "version": "3.6.8"
  }
 },
 "nbformat": 4,
 "nbformat_minor": 2
}
